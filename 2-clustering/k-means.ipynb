{
 "cells": [
  {
   "cell_type": "code",
   "execution_count": 1,
   "metadata": {},
   "outputs": [],
   "source": [
    "import tensorflow as tf\n",
    "import pandas as pd\n",
    "import matplotlib.pyplot as plt\n",
    "import numpy as np\n",
    "\n",
    "%matplotlib inline"
   ]
  },
  {
   "cell_type": "code",
   "execution_count": 2,
   "metadata": {},
   "outputs": [
    {
     "data": {
      "text/plain": [
       "'1.8.0'"
      ]
     },
     "execution_count": 2,
     "metadata": {},
     "output_type": "execute_result"
    }
   ],
   "source": [
    "tf.__version__"
   ]
  },
  {
   "cell_type": "code",
   "execution_count": 3,
   "metadata": {},
   "outputs": [],
   "source": [
    "# parameters\n",
    "number_clusters = 3\n",
    "n_samples = 1000\n",
    "learning_rate = 0.001\n",
    "training_epochs = 20\n",
    "noise = 0.8"
   ]
  },
  {
   "cell_type": "code",
   "execution_count": 4,
   "metadata": {},
   "outputs": [],
   "source": [
    "# generate base 3 points\n",
    "cluster_base_x = np.random.rand(number_clusters) * 15\n",
    "cluster_base_y = np.random.rand(number_clusters) * 15"
   ]
  },
  {
   "cell_type": "code",
   "execution_count": 5,
   "metadata": {},
   "outputs": [
    {
     "name": "stdout",
     "output_type": "stream",
     "text": [
      "generating samples for cluster  0\n",
      "generating samples for cluster  1\n",
      "generating samples for cluster  2\n"
     ]
    }
   ],
   "source": [
    "samples_x = []\n",
    "samples_y = []\n",
    "for cluster in range(number_clusters):\n",
    "    print(\"generating samples for cluster \", cluster)\n",
    "    for i in range(int(n_samples / 3)):\n",
    "        samples_x.append(cluster_base_x[cluster] + np.random.randn() * noise)\n",
    "        samples_y.append(cluster_base_y[cluster] + np.random.randn() * noise)"
   ]
  },
  {
   "cell_type": "code",
   "execution_count": 13,
   "metadata": {},
   "outputs": [
    {
     "data": {
      "image/png": "[encoded data removed]",
      "text/plain": [
       "<matplotlib.figure.Figure at 0x7f0ced7405c0>"
      ]
     },
     "metadata": {},
     "output_type": "display_data"
    }
   ],
   "source": [
    "samples = [samples_x, samples_y]\n",
    "plt.plot(samples[0], samples[1], \"o\")\n",
    "points =np.transpose(samples)"
   ]
  },
  {
   "cell_type": "code",
   "execution_count": 7,
   "metadata": {},
   "outputs": [],
   "source": [
    "X = tf.Variable(np.transpose(samples))"
   ]
  },
  {
   "cell_type": "code",
   "execution_count": 9,
   "metadata": {},
   "outputs": [
    {
     "name": "stdout",
     "output_type": "stream",
     "text": [
      "INFO:tensorflow:Using default config.\n",
      "WARNING:tensorflow:Using temporary folder as model directory: /tmp/tmp9x1f4pvm\n",
      "INFO:tensorflow:Using config: {'_model_dir': '/tmp/tmp9x1f4pvm', '_tf_random_seed': None, '_save_summary_steps': 100, '_save_checkpoints_steps': None, '_save_checkpoints_secs': 600, '_session_config': None, '_keep_checkpoint_max': 5, '_keep_checkpoint_every_n_hours': 10000, '_log_step_count_steps': 100, '_train_distribute': None, '_service': None, '_cluster_spec': <tensorflow.python.training.server_lib.ClusterSpec object at 0x7f0ced775470>, '_task_type': 'worker', '_task_id': 0, '_global_id_in_cluster': 0, '_master': '', '_evaluation_master': '', '_is_chief': True, '_num_ps_replicas': 0, '_num_worker_replicas': 1}\n"
     ]
    }
   ],
   "source": [
    "kmeans = tf.contrib.factorization.KMeansClustering(num_clusters=number_clusters, use_mini_batch=False)"
   ]
  },
  {
   "cell_type": "code",
   "execution_count": 18,
   "metadata": {},
   "outputs": [
    {
     "name": "stdout",
     "output_type": "stream",
     "text": [
      "INFO:tensorflow:Calling model_fn.\n",
      "INFO:tensorflow:Done calling model_fn.\n",
      "INFO:tensorflow:Create CheckpointSaverHook.\n",
      "INFO:tensorflow:Graph was finalized.\n",
      "INFO:tensorflow:Restoring parameters from /tmp/tmp9x1f4pvm/model.ckpt-39\n",
      "INFO:tensorflow:Running local_init_op.\n",
      "INFO:tensorflow:Done running local_init_op.\n",
      "INFO:tensorflow:Saving checkpoints for 40 into /tmp/tmp9x1f4pvm/model.ckpt.\n",
      "INFO:tensorflow:loss = 1230.6019, step = 40\n",
      "INFO:tensorflow:Saving checkpoints for 41 into /tmp/tmp9x1f4pvm/model.ckpt.\n",
      "INFO:tensorflow:Loss for final step: 1230.6019.\n",
      "INFO:tensorflow:Calling model_fn.\n",
      "INFO:tensorflow:Done calling model_fn.\n",
      "INFO:tensorflow:Starting evaluation at 2018-04-28-21:23:10\n",
      "INFO:tensorflow:Graph was finalized.\n",
      "INFO:tensorflow:Restoring parameters from /tmp/tmp9x1f4pvm/model.ckpt-41\n",
      "INFO:tensorflow:Running local_init_op.\n",
      "INFO:tensorflow:Done running local_init_op.\n",
      "INFO:tensorflow:Evaluation [1/1]\n",
      "INFO:tensorflow:Finished evaluation at 2018-04-28-21:23:10\n",
      "INFO:tensorflow:Saving dict for global step 41: global_step = 41, loss = 1230.6019, score = 1230.6019\n",
      "score: 1230.6019\n",
      "INFO:tensorflow:Calling model_fn.\n",
      "INFO:tensorflow:Done calling model_fn.\n",
      "INFO:tensorflow:Create CheckpointSaverHook.\n",
      "INFO:tensorflow:Graph was finalized.\n",
      "INFO:tensorflow:Restoring parameters from /tmp/tmp9x1f4pvm/model.ckpt-41\n",
      "INFO:tensorflow:Running local_init_op.\n",
      "INFO:tensorflow:Done running local_init_op.\n",
      "INFO:tensorflow:Saving checkpoints for 42 into /tmp/tmp9x1f4pvm/model.ckpt.\n",
      "INFO:tensorflow:loss = 1230.6019, step = 42\n",
      "INFO:tensorflow:Saving checkpoints for 43 into /tmp/tmp9x1f4pvm/model.ckpt.\n",
      "INFO:tensorflow:Loss for final step: 1230.6019.\n",
      "INFO:tensorflow:Calling model_fn.\n",
      "INFO:tensorflow:Done calling model_fn.\n",
      "INFO:tensorflow:Starting evaluation at 2018-04-28-21:23:11\n",
      "INFO:tensorflow:Graph was finalized.\n",
      "INFO:tensorflow:Restoring parameters from /tmp/tmp9x1f4pvm/model.ckpt-43\n",
      "INFO:tensorflow:Running local_init_op.\n",
      "INFO:tensorflow:Done running local_init_op.\n",
      "INFO:tensorflow:Evaluation [1/1]\n",
      "INFO:tensorflow:Finished evaluation at 2018-04-28-21:23:11\n",
      "INFO:tensorflow:Saving dict for global step 43: global_step = 43, loss = 1230.6019, score = 1230.6019\n",
      "score: 1230.6019\n",
      "INFO:tensorflow:Calling model_fn.\n",
      "INFO:tensorflow:Done calling model_fn.\n",
      "INFO:tensorflow:Create CheckpointSaverHook.\n",
      "INFO:tensorflow:Graph was finalized.\n",
      "INFO:tensorflow:Restoring parameters from /tmp/tmp9x1f4pvm/model.ckpt-43\n",
      "INFO:tensorflow:Running local_init_op.\n",
      "INFO:tensorflow:Done running local_init_op.\n",
      "INFO:tensorflow:Saving checkpoints for 44 into /tmp/tmp9x1f4pvm/model.ckpt.\n",
      "INFO:tensorflow:loss = 1230.6019, step = 44\n",
      "INFO:tensorflow:Saving checkpoints for 45 into /tmp/tmp9x1f4pvm/model.ckpt.\n",
      "INFO:tensorflow:Loss for final step: 1230.6019.\n",
      "INFO:tensorflow:Calling model_fn.\n",
      "INFO:tensorflow:Done calling model_fn.\n",
      "INFO:tensorflow:Starting evaluation at 2018-04-28-21:23:12\n",
      "INFO:tensorflow:Graph was finalized.\n",
      "INFO:tensorflow:Restoring parameters from /tmp/tmp9x1f4pvm/model.ckpt-45\n",
      "INFO:tensorflow:Running local_init_op.\n",
      "INFO:tensorflow:Done running local_init_op.\n",
      "INFO:tensorflow:Evaluation [1/1]\n",
      "INFO:tensorflow:Finished evaluation at 2018-04-28-21:23:12\n",
      "INFO:tensorflow:Saving dict for global step 45: global_step = 45, loss = 1230.6019, score = 1230.6019\n",
      "score: 1230.6019\n",
      "INFO:tensorflow:Calling model_fn.\n",
      "INFO:tensorflow:Done calling model_fn.\n",
      "INFO:tensorflow:Create CheckpointSaverHook.\n",
      "INFO:tensorflow:Graph was finalized.\n",
      "INFO:tensorflow:Restoring parameters from /tmp/tmp9x1f4pvm/model.ckpt-45\n",
      "INFO:tensorflow:Running local_init_op.\n",
      "INFO:tensorflow:Done running local_init_op.\n",
      "INFO:tensorflow:Saving checkpoints for 46 into /tmp/tmp9x1f4pvm/model.ckpt.\n",
      "INFO:tensorflow:loss = 1230.6019, step = 46\n",
      "INFO:tensorflow:Saving checkpoints for 47 into /tmp/tmp9x1f4pvm/model.ckpt.\n",
      "INFO:tensorflow:Loss for final step: 1230.6019.\n",
      "INFO:tensorflow:Calling model_fn.\n",
      "INFO:tensorflow:Done calling model_fn.\n",
      "INFO:tensorflow:Starting evaluation at 2018-04-28-21:23:12\n",
      "INFO:tensorflow:Graph was finalized.\n",
      "INFO:tensorflow:Restoring parameters from /tmp/tmp9x1f4pvm/model.ckpt-47\n",
      "INFO:tensorflow:Running local_init_op.\n",
      "INFO:tensorflow:Done running local_init_op.\n",
      "INFO:tensorflow:Evaluation [1/1]\n",
      "INFO:tensorflow:Finished evaluation at 2018-04-28-21:23:12\n",
      "INFO:tensorflow:Saving dict for global step 47: global_step = 47, loss = 1230.6019, score = 1230.6019\n",
      "score: 1230.6019\n",
      "INFO:tensorflow:Calling model_fn.\n",
      "INFO:tensorflow:Done calling model_fn.\n",
      "INFO:tensorflow:Create CheckpointSaverHook.\n",
      "INFO:tensorflow:Graph was finalized.\n",
      "INFO:tensorflow:Restoring parameters from /tmp/tmp9x1f4pvm/model.ckpt-47\n",
      "INFO:tensorflow:Running local_init_op.\n",
      "INFO:tensorflow:Done running local_init_op.\n",
      "INFO:tensorflow:Saving checkpoints for 48 into /tmp/tmp9x1f4pvm/model.ckpt.\n",
      "INFO:tensorflow:loss = 1230.6019, step = 48\n",
      "INFO:tensorflow:Saving checkpoints for 49 into /tmp/tmp9x1f4pvm/model.ckpt.\n",
      "INFO:tensorflow:Loss for final step: 1230.6019.\n",
      "INFO:tensorflow:Calling model_fn.\n",
      "INFO:tensorflow:Done calling model_fn.\n",
      "INFO:tensorflow:Starting evaluation at 2018-04-28-21:23:13\n",
      "INFO:tensorflow:Graph was finalized.\n",
      "INFO:tensorflow:Restoring parameters from /tmp/tmp9x1f4pvm/model.ckpt-49\n",
      "INFO:tensorflow:Running local_init_op.\n",
      "INFO:tensorflow:Done running local_init_op.\n",
      "INFO:tensorflow:Evaluation [1/1]\n",
      "INFO:tensorflow:Finished evaluation at 2018-04-28-21:23:13\n",
      "INFO:tensorflow:Saving dict for global step 49: global_step = 49, loss = 1230.6019, score = 1230.6019\n",
      "score: 1230.6019\n",
      "INFO:tensorflow:Calling model_fn.\n",
      "INFO:tensorflow:Done calling model_fn.\n",
      "INFO:tensorflow:Create CheckpointSaverHook.\n",
      "INFO:tensorflow:Graph was finalized.\n",
      "INFO:tensorflow:Restoring parameters from /tmp/tmp9x1f4pvm/model.ckpt-49\n",
      "INFO:tensorflow:Running local_init_op.\n",
      "INFO:tensorflow:Done running local_init_op.\n",
      "INFO:tensorflow:Saving checkpoints for 50 into /tmp/tmp9x1f4pvm/model.ckpt.\n",
      "INFO:tensorflow:loss = 1230.6019, step = 50\n",
      "INFO:tensorflow:Saving checkpoints for 51 into /tmp/tmp9x1f4pvm/model.ckpt.\n",
      "INFO:tensorflow:Loss for final step: 1230.6019.\n",
      "INFO:tensorflow:Calling model_fn.\n",
      "INFO:tensorflow:Done calling model_fn.\n",
      "INFO:tensorflow:Starting evaluation at 2018-04-28-21:23:14\n",
      "INFO:tensorflow:Graph was finalized.\n",
      "INFO:tensorflow:Restoring parameters from /tmp/tmp9x1f4pvm/model.ckpt-51\n",
      "INFO:tensorflow:Running local_init_op.\n",
      "INFO:tensorflow:Done running local_init_op.\n",
      "INFO:tensorflow:Evaluation [1/1]\n",
      "INFO:tensorflow:Finished evaluation at 2018-04-28-21:23:14\n",
      "INFO:tensorflow:Saving dict for global step 51: global_step = 51, loss = 1230.6019, score = 1230.6019\n",
      "score: 1230.6019\n",
      "INFO:tensorflow:Calling model_fn.\n",
      "INFO:tensorflow:Done calling model_fn.\n",
      "INFO:tensorflow:Create CheckpointSaverHook.\n",
      "INFO:tensorflow:Graph was finalized.\n",
      "INFO:tensorflow:Restoring parameters from /tmp/tmp9x1f4pvm/model.ckpt-51\n",
      "INFO:tensorflow:Running local_init_op.\n",
      "INFO:tensorflow:Done running local_init_op.\n",
      "INFO:tensorflow:Saving checkpoints for 52 into /tmp/tmp9x1f4pvm/model.ckpt.\n",
      "INFO:tensorflow:loss = 1230.6019, step = 52\n",
      "INFO:tensorflow:Saving checkpoints for 53 into /tmp/tmp9x1f4pvm/model.ckpt.\n",
      "INFO:tensorflow:Loss for final step: 1230.6019.\n",
      "INFO:tensorflow:Calling model_fn.\n",
      "INFO:tensorflow:Done calling model_fn.\n",
      "INFO:tensorflow:Starting evaluation at 2018-04-28-21:23:15\n",
      "INFO:tensorflow:Graph was finalized.\n",
      "INFO:tensorflow:Restoring parameters from /tmp/tmp9x1f4pvm/model.ckpt-53\n",
      "INFO:tensorflow:Running local_init_op.\n",
      "INFO:tensorflow:Done running local_init_op.\n",
      "INFO:tensorflow:Evaluation [1/1]\n",
      "INFO:tensorflow:Finished evaluation at 2018-04-28-21:23:15\n",
      "INFO:tensorflow:Saving dict for global step 53: global_step = 53, loss = 1230.6019, score = 1230.6019\n",
      "score: 1230.6019\n",
      "INFO:tensorflow:Calling model_fn.\n",
      "INFO:tensorflow:Done calling model_fn.\n",
      "INFO:tensorflow:Create CheckpointSaverHook.\n",
      "INFO:tensorflow:Graph was finalized.\n",
      "INFO:tensorflow:Restoring parameters from /tmp/tmp9x1f4pvm/model.ckpt-53\n",
      "INFO:tensorflow:Running local_init_op.\n",
      "INFO:tensorflow:Done running local_init_op.\n",
      "INFO:tensorflow:Saving checkpoints for 54 into /tmp/tmp9x1f4pvm/model.ckpt.\n",
      "INFO:tensorflow:loss = 1230.6019, step = 54\n",
      "INFO:tensorflow:Saving checkpoints for 55 into /tmp/tmp9x1f4pvm/model.ckpt.\n",
      "INFO:tensorflow:Loss for final step: 1230.6019.\n",
      "INFO:tensorflow:Calling model_fn.\n"
     ]
    },
    {
     "name": "stdout",
     "output_type": "stream",
     "text": [
      "INFO:tensorflow:Done calling model_fn.\n",
      "INFO:tensorflow:Starting evaluation at 2018-04-28-21:23:15\n",
      "INFO:tensorflow:Graph was finalized.\n",
      "INFO:tensorflow:Restoring parameters from /tmp/tmp9x1f4pvm/model.ckpt-55\n",
      "INFO:tensorflow:Running local_init_op.\n",
      "INFO:tensorflow:Done running local_init_op.\n",
      "INFO:tensorflow:Evaluation [1/1]\n",
      "INFO:tensorflow:Finished evaluation at 2018-04-28-21:23:15\n",
      "INFO:tensorflow:Saving dict for global step 55: global_step = 55, loss = 1230.6019, score = 1230.6019\n",
      "score: 1230.6019\n",
      "INFO:tensorflow:Calling model_fn.\n",
      "INFO:tensorflow:Done calling model_fn.\n",
      "INFO:tensorflow:Create CheckpointSaverHook.\n",
      "INFO:tensorflow:Graph was finalized.\n",
      "INFO:tensorflow:Restoring parameters from /tmp/tmp9x1f4pvm/model.ckpt-55\n",
      "INFO:tensorflow:Running local_init_op.\n",
      "INFO:tensorflow:Done running local_init_op.\n",
      "INFO:tensorflow:Saving checkpoints for 56 into /tmp/tmp9x1f4pvm/model.ckpt.\n",
      "INFO:tensorflow:loss = 1230.6019, step = 56\n",
      "INFO:tensorflow:Saving checkpoints for 57 into /tmp/tmp9x1f4pvm/model.ckpt.\n",
      "INFO:tensorflow:Loss for final step: 1230.6019.\n",
      "INFO:tensorflow:Calling model_fn.\n",
      "INFO:tensorflow:Done calling model_fn.\n",
      "INFO:tensorflow:Starting evaluation at 2018-04-28-21:23:16\n",
      "INFO:tensorflow:Graph was finalized.\n",
      "INFO:tensorflow:Restoring parameters from /tmp/tmp9x1f4pvm/model.ckpt-57\n",
      "INFO:tensorflow:Running local_init_op.\n",
      "INFO:tensorflow:Done running local_init_op.\n",
      "INFO:tensorflow:Evaluation [1/1]\n",
      "INFO:tensorflow:Finished evaluation at 2018-04-28-21:23:16\n",
      "INFO:tensorflow:Saving dict for global step 57: global_step = 57, loss = 1230.6019, score = 1230.6019\n",
      "score: 1230.6019\n",
      "INFO:tensorflow:Calling model_fn.\n",
      "INFO:tensorflow:Done calling model_fn.\n",
      "INFO:tensorflow:Create CheckpointSaverHook.\n",
      "INFO:tensorflow:Graph was finalized.\n",
      "INFO:tensorflow:Restoring parameters from /tmp/tmp9x1f4pvm/model.ckpt-57\n",
      "INFO:tensorflow:Running local_init_op.\n",
      "INFO:tensorflow:Done running local_init_op.\n",
      "INFO:tensorflow:Saving checkpoints for 58 into /tmp/tmp9x1f4pvm/model.ckpt.\n",
      "INFO:tensorflow:loss = 1230.6019, step = 58\n",
      "INFO:tensorflow:Saving checkpoints for 59 into /tmp/tmp9x1f4pvm/model.ckpt.\n",
      "INFO:tensorflow:Loss for final step: 1230.6019.\n",
      "INFO:tensorflow:Calling model_fn.\n",
      "INFO:tensorflow:Done calling model_fn.\n",
      "INFO:tensorflow:Starting evaluation at 2018-04-28-21:23:17\n",
      "INFO:tensorflow:Graph was finalized.\n",
      "INFO:tensorflow:Restoring parameters from /tmp/tmp9x1f4pvm/model.ckpt-59\n",
      "INFO:tensorflow:Running local_init_op.\n",
      "INFO:tensorflow:Done running local_init_op.\n",
      "INFO:tensorflow:Evaluation [1/1]\n",
      "INFO:tensorflow:Finished evaluation at 2018-04-28-21:23:17\n",
      "INFO:tensorflow:Saving dict for global step 59: global_step = 59, loss = 1230.6019, score = 1230.6019\n",
      "score: 1230.6019\n"
     ]
    }
   ],
   "source": [
    "def input_fn():\n",
    "  return tf.train.limit_epochs(\n",
    "      tf.convert_to_tensor(points, dtype=tf.float32), num_epochs=1)\n",
    "\n",
    "num_iterations = 10\n",
    "previous_centers = None\n",
    "for _ in range(num_iterations):\n",
    "  kmeans.train(input_fn)\n",
    "  cluster_centers = kmeans.cluster_centers()\n",
    "  print ('score:', kmeans.score(input_fn))\n"
   ]
  },
  {
   "cell_type": "code",
   "execution_count": 19,
   "metadata": {},
   "outputs": [
    {
     "data": {
      "text/plain": [
       "array([[ 8.852446 ,  2.3418467],\n",
       "       [13.6848135,  9.900317 ],\n",
       "       [12.234351 , 14.547478 ]], dtype=float32)"
      ]
     },
     "execution_count": 19,
     "metadata": {},
     "output_type": "execute_result"
    }
   ],
   "source": [
    "kmeans.cluster_centers()"
   ]
  },
  {
   "cell_type": "code",
   "execution_count": 59,
   "metadata": {},
   "outputs": [
    {
     "data": {
      "text/plain": [
       "<matplotlib.collections.PathCollection at 0x7f0cec341278>"
      ]
     },
     "execution_count": 59,
     "metadata": {},
     "output_type": "execute_result"
    },
    {
     "data": {
      "image/png": "[encoded data removed]",
      "text/plain": [
       "<matplotlib.figure.Figure at 0x7f0ceca9d5c0>"
      ]
     },
     "metadata": {},
     "output_type": "display_data"
    }
   ],
   "source": [
    "plt.scatter(samples[0], samples[1])\n",
    "centroids = kmeans.cluster_centers()\n",
    "plt.scatter([x[0] for x in centroids], [x[1] for x in centroids], marker=\"x\", s=100, c=\"red\")"
   ]
  }
 ],
 "metadata": {
  "kernelspec": {
   "display_name": "Python 3",
   "language": "python",
   "name": "python3"
  },
  "language_info": {
   "codemirror_mode": {
    "name": "ipython",
    "version": 3
   },
   "file_extension": ".py",
   "mimetype": "text/x-python",
   "name": "python",
   "nbconvert_exporter": "python",
   "pygments_lexer": "ipython3",
   "version": "3.6.3"
  }
 },
 "nbformat": 4,
 "nbformat_minor": 2
}
